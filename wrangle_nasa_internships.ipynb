{
  "nbformat": 4,
  "nbformat_minor": 0,
  "metadata": {
    "colab": {
      "name": "wrangle_nasa_internships.ipynb",
      "provenance": []
    },
    "kernelspec": {
      "name": "python3",
      "display_name": "Python 3"
    },
    "language_info": {
      "name": "python"
    }
  },
  "cells": [
    {
      "cell_type": "code",
      "execution_count": 34,
      "metadata": {
        "colab": {
          "base_uri": "https://localhost:8080/"
        },
        "id": "dB_0zu-oicgN",
        "outputId": "1a250870-a148-4526-d268-8373e33a8273"
      },
      "outputs": [
        {
          "output_type": "stream",
          "name": "stdout",
          "text": [
            "44\n"
          ]
        }
      ],
      "source": [
        "import pandas as pd \n",
        "import numpy as np\n",
        "\n",
        "tables = pd.read_html('Internships.htm')\n",
        "\n",
        "df = tables[0]\n",
        "\n",
        "academics = np.array(df['Academic LevelColumn Actions']).astype(str)\n",
        "\n",
        "junior_indices = np.char.find(academics, '11')\n",
        "\n",
        "keep_indices = np.where(junior_indices>-1)[0]\n",
        "\n",
        "df = df.iloc[keep_indices, :]\n",
        "\n",
        "print(len(df.index))"
      ]
    },
    {
      "cell_type": "code",
      "source": [
        "print(list(df))"
      ],
      "metadata": {
        "colab": {
          "base_uri": "https://localhost:8080/"
        },
        "id": "58GrQ_RBlO_h",
        "outputId": "4154d380-3000-4c3d-d39e-2af77214ec3e"
      },
      "execution_count": 30,
      "outputs": [
        {
          "output_type": "stream",
          "name": "stdout",
          "text": [
            "['Item Number', 'SortUnique Identification NumberSorted AscendingColumn Actions', 'SortShort TitleColumn Actions', 'SortPhysical LocationColumn Actions', 'SortStateColumn Actions', 'SortSessionColumn Actions', 'Preferred MajorColumn Actions', 'Academic LevelColumn Actions', 'SortEligible Applicant(s)Column Actions', 'SortActivity TypeColumn Actions', 'Action']\n"
          ]
        }
      ]
    },
    {
      "cell_type": "code",
      "source": [
        "df.iloc[0, :]"
      ],
      "metadata": {
        "colab": {
          "base_uri": "https://localhost:8080/"
        },
        "id": "rWz04qR0lSjN",
        "outputId": "4d543477-e67d-4aae-e93e-d06f2ebbb302"
      },
      "execution_count": 31,
      "outputs": [
        {
          "output_type": "execute_result",
          "data": {
            "text/plain": [
              "Item Number                                                                                                     NaN\n",
              "SortUnique Identification NumberSorted AscendingColumn Actions                                                 2876\n",
              "SortShort TitleColumn Actions                                                                NFR for the Ice Giants\n",
              "SortPhysical LocationColumn Actions                                                     Goddard Space Flight Center\n",
              "SortStateColumn Actions                                                                                    Maryland\n",
              "SortSessionColumn Actions                                                                       Intern: Summer 2022\n",
              "Preferred MajorColumn Actions                                     Engineering - Biological/Biosystems;Engineerin...\n",
              "Academic LevelColumn Actions                                                                               10;11;12\n",
              "SortEligible Applicant(s)Column Actions                                                                     Student\n",
              "SortActivity TypeColumn Actions                                                                             Virtual\n",
              "Action                                                                                                 Show Actions\n",
              "Name: 1, dtype: object"
            ]
          },
          "metadata": {},
          "execution_count": 31
        }
      ]
    },
    {
      "cell_type": "code",
      "source": [
        "delete_columns = ['Item Number', 'SortEligible Applicant(s)Column Actions', 'SortStateColumn Actions', 'SortPhysical LocationColumn Actions', 'Action', 'SortSessionColumn Actions']\n",
        "\n",
        "df = df.drop(columns=delete_columns)\n",
        "\n",
        "df = df.rename(columns={'SortUnique Identification NumberSorted AscendingColumn Actions':'Unique ID', \n",
        "                        'SortShort TitleColumn Actions':'Title', \n",
        "                        'Preferred MajorColumn Actions':'Preferred Major', \n",
        "                        'Academic LevelColumn Actions':'Academic Level',\n",
        "                        'SortActivity TypeColumn Actions':'Activity Type'})\n",
        "\n",
        "df.to_csv('intern_results_clean.csv', index=False)"
      ],
      "metadata": {
        "id": "ET1zcqT4lcwg"
      },
      "execution_count": 35,
      "outputs": []
    }
  ]
}