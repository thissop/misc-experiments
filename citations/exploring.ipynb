{
 "cells": [
  {
   "cell_type": "code",
   "execution_count": 5,
   "metadata": {},
   "outputs": [],
   "source": [
    "import numpy as np\n",
    "import pandas as pd\n",
    "import matplotlib.pyplot as plt\n",
    "from scholarly import scholarly\n",
    "import os\n",
    "\n",
    "proxies = {\n",
    "  'http': os.getenv('HTTP_PROXY') # Or just type without os.getenv()\n",
    "}"
   ]
  },
  {
   "cell_type": "code",
   "execution_count": 17,
   "metadata": {},
   "outputs": [
    {
     "name": "stdout",
     "output_type": "stream",
     "text": [
      "[1982 1983 1984 1985 1986 1987 1988 1989 1990 1991 1992 1993 1994 1995\n",
      " 1996 1997 1998 1999 2000 2001 2002 2003 2004 2005 2006 2007 2008 2009\n",
      " 2010 2011 2012 2013 2014 2015 2016 2017 2018 2019 2020 2021] [  61   68   57   93   75  122  106   92  112  122  157  178  133  155\n",
      "  203  193  234  299  225  489  252  312  352  401  526  551  640  801\n",
      "  920 1065 1154 1377 1148 1352 1332 1412 1571 1427 1383 1106]\n"
     ]
    },
    {
     "data": {
      "text/plain": [
       "<BarContainer object of 40 artists>"
      ]
     },
     "execution_count": 17,
     "metadata": {},
     "output_type": "execute_result"
    },
    {
     "data": {
      "image/png": "[encoded data removed]",
      "text/plain": [
       "<Figure size 432x288 with 1 Axes>"
      ]
     },
     "metadata": {
      "needs_background": "light"
     },
     "output_type": "display_data"
    }
   ],
   "source": [
    "author = scholarly.search_author_id('Smr99uEAAAAJ')\n",
    "counts = scholarly.fill(author, sections=['counts'])\n",
    "citations_dict = counts['cites_per_year']\n",
    "years = np.array(np.array([int(i) for i in citations_dict.keys()]))\n",
    "citations = np.array(np.array([int(i) for i in citations_dict.values()]))\n",
    "print(years, citations)\n",
    "plt.bar(years, citations)"
   ]
  }
 ],
 "metadata": {
  "interpreter": {
   "hash": "d3c0f98bc337faacb3dc92d86fb3c3ff5c297fcab3c4973bdf073a6202ea54c1"
  },
  "kernelspec": {
   "display_name": "Python 3.8.5 64-bit",
   "name": "python3"
  },
  "language_info": {
   "codemirror_mode": {
    "name": "ipython",
    "version": 3
   },
   "file_extension": ".py",
   "mimetype": "text/x-python",
   "name": "python",
   "nbconvert_exporter": "python",
   "pygments_lexer": "ipython3",
   "version": "3.8.5"
  },
  "orig_nbformat": 4
 },
 "nbformat": 4,
 "nbformat_minor": 2
}
